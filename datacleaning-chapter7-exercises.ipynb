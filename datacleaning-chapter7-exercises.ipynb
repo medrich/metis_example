{
 "cells": [
  {
   "cell_type": "markdown",
   "metadata": {
    "id": "t-u_9mtwiv2L"
   },
   "source": [
    "# Chapter 7 - Case Study \\#3: Comparing Against Group Statistics"
   ]
  },
  {
   "cell_type": "code",
   "execution_count": 1,
   "metadata": {
    "id": "nrAgpqMqcK9h"
   },
   "outputs": [],
   "source": [
    "import pandas as pd\n",
    "\n",
    "import seaborn as sns\n",
    "import numpy as np"
   ]
  },
  {
   "cell_type": "markdown",
   "metadata": {
    "id": "0ssp39jWmAlf"
   },
   "source": [
    "Please perform calculations on this dataframe about cars (`cars`) for the exercises in this chapter."
   ]
  },
  {
   "cell_type": "code",
   "execution_count": 2,
   "metadata": {
    "id": "ln4kGXHyi4SN"
   },
   "outputs": [],
   "source": [
    "cars = sns.load_dataset('mpg')\n",
    "\n",
    "np.random.seed(4)\n",
    "cars['mpg'] = cars.mpg + np.random.rand(len(cars))/10  #Add random value to MPG column for sorting purposes"
   ]
  },
  {
   "cell_type": "code",
   "execution_count": 3,
   "metadata": {
    "colab": {
     "base_uri": "https://localhost:8080/",
     "height": 195
    },
    "executionInfo": {
     "elapsed": 1601,
     "status": "ok",
     "timestamp": 1607807982243,
     "user": {
      "displayName": "Don Perkus",
      "photoUrl": "",
      "userId": "17299458734576349048"
     },
     "user_tz": 300
    },
    "id": "IViCKiCLjnh-",
    "outputId": "ff1832a5-46db-4fdf-8a4f-c2ad4a5ab81c"
   },
   "outputs": [
    {
     "data": {
      "text/html": [
       "<div>\n",
       "<style scoped>\n",
       "    .dataframe tbody tr th:only-of-type {\n",
       "        vertical-align: middle;\n",
       "    }\n",
       "\n",
       "    .dataframe tbody tr th {\n",
       "        vertical-align: top;\n",
       "    }\n",
       "\n",
       "    .dataframe thead th {\n",
       "        text-align: right;\n",
       "    }\n",
       "</style>\n",
       "<table border=\"1\" class=\"dataframe\">\n",
       "  <thead>\n",
       "    <tr style=\"text-align: right;\">\n",
       "      <th></th>\n",
       "      <th>mpg</th>\n",
       "      <th>cylinders</th>\n",
       "      <th>displacement</th>\n",
       "      <th>horsepower</th>\n",
       "      <th>weight</th>\n",
       "      <th>acceleration</th>\n",
       "      <th>model_year</th>\n",
       "      <th>origin</th>\n",
       "      <th>name</th>\n",
       "    </tr>\n",
       "  </thead>\n",
       "  <tbody>\n",
       "    <tr>\n",
       "      <th>0</th>\n",
       "      <td>18.096703</td>\n",
       "      <td>8</td>\n",
       "      <td>307.0</td>\n",
       "      <td>130.0</td>\n",
       "      <td>3504</td>\n",
       "      <td>12.0</td>\n",
       "      <td>70</td>\n",
       "      <td>usa</td>\n",
       "      <td>chevrolet chevelle malibu</td>\n",
       "    </tr>\n",
       "    <tr>\n",
       "      <th>1</th>\n",
       "      <td>15.054723</td>\n",
       "      <td>8</td>\n",
       "      <td>350.0</td>\n",
       "      <td>165.0</td>\n",
       "      <td>3693</td>\n",
       "      <td>11.5</td>\n",
       "      <td>70</td>\n",
       "      <td>usa</td>\n",
       "      <td>buick skylark 320</td>\n",
       "    </tr>\n",
       "    <tr>\n",
       "      <th>2</th>\n",
       "      <td>18.097268</td>\n",
       "      <td>8</td>\n",
       "      <td>318.0</td>\n",
       "      <td>150.0</td>\n",
       "      <td>3436</td>\n",
       "      <td>11.0</td>\n",
       "      <td>70</td>\n",
       "      <td>usa</td>\n",
       "      <td>plymouth satellite</td>\n",
       "    </tr>\n",
       "    <tr>\n",
       "      <th>3</th>\n",
       "      <td>16.071482</td>\n",
       "      <td>8</td>\n",
       "      <td>304.0</td>\n",
       "      <td>150.0</td>\n",
       "      <td>3433</td>\n",
       "      <td>12.0</td>\n",
       "      <td>70</td>\n",
       "      <td>usa</td>\n",
       "      <td>amc rebel sst</td>\n",
       "    </tr>\n",
       "    <tr>\n",
       "      <th>4</th>\n",
       "      <td>17.069773</td>\n",
       "      <td>8</td>\n",
       "      <td>302.0</td>\n",
       "      <td>140.0</td>\n",
       "      <td>3449</td>\n",
       "      <td>10.5</td>\n",
       "      <td>70</td>\n",
       "      <td>usa</td>\n",
       "      <td>ford torino</td>\n",
       "    </tr>\n",
       "  </tbody>\n",
       "</table>\n",
       "</div>"
      ],
      "text/plain": [
       "         mpg  cylinders  displacement  horsepower  weight  acceleration  \\\n",
       "0  18.096703          8         307.0       130.0    3504          12.0   \n",
       "1  15.054723          8         350.0       165.0    3693          11.5   \n",
       "2  18.097268          8         318.0       150.0    3436          11.0   \n",
       "3  16.071482          8         304.0       150.0    3433          12.0   \n",
       "4  17.069773          8         302.0       140.0    3449          10.5   \n",
       "\n",
       "   model_year origin                       name  \n",
       "0          70    usa  chevrolet chevelle malibu  \n",
       "1          70    usa          buick skylark 320  \n",
       "2          70    usa         plymouth satellite  \n",
       "3          70    usa              amc rebel sst  \n",
       "4          70    usa                ford torino  "
      ]
     },
     "execution_count": 3,
     "metadata": {},
     "output_type": "execute_result"
    }
   ],
   "source": [
    "cars.head()"
   ]
  },
  {
   "cell_type": "markdown",
   "metadata": {
    "id": "5oyPImDVmIg7"
   },
   "source": [
    "## Exercise 1 - To Drop or Not to Drop?\n",
    "\n",
    "One column of the `cars` dataframe contains missing values.  \n",
    "\n",
    "Filter `cars` down to only rows that contain missing values and save this result as `cars_missing`. \n",
    "\n",
    "Should these rows be dropped?  Think of at least one situation when you WOULD choose to drop these rows and then think of at least one situation where you WOULD NOT choose to drop them. _(Do not actually change the `cars` dataframe!)_"
   ]
  },
  {
   "cell_type": "code",
   "execution_count": null,
   "metadata": {
    "colab": {
     "base_uri": "https://localhost:8080/",
     "height": 195
    },
    "executionInfo": {
     "elapsed": 1595,
     "status": "ok",
     "timestamp": 1607807982244,
     "user": {
      "displayName": "Don Perkus",
      "photoUrl": "",
      "userId": "17299458734576349048"
     },
     "user_tz": 300
    },
    "id": "4c6_rbfYkVQm",
    "outputId": "9786a6cc-93a2-4316-f69c-8b4f34893d2e"
   },
   "outputs": [],
   "source": [
    "# YOUR CODE HERE\n",
    "#raise NotImplementedError()\n",
    "\n",
    "cars_missing.head()"
   ]
  },
  {
   "cell_type": "code",
   "execution_count": null,
   "metadata": {
    "id": "gzsxvDqGmZOZ"
   },
   "outputs": [],
   "source": [
    "assert type(cars_missing) == pd.DataFrame, \"Be sure cars_missing is a pandas dataframe.\"\n",
    "assert cars_missing.shape[1] == cars.shape[1], \"You should not remove any columns of data.\"\n",
    "assert cars_missing.isna().sum().sum() == cars_missing.shape[0], \"Each row of cars_missing should contain at least one missing value.\""
   ]
  },
  {
   "cell_type": "code",
   "execution_count": null,
   "metadata": {
    "id": "dYZX5Mawnkv6"
   },
   "outputs": [],
   "source": []
  },
  {
   "cell_type": "markdown",
   "metadata": {
    "id": "9s-Ud5s5uElt"
   },
   "source": [
    "## Exercise 2 - Origin Median\n",
    "\n",
    "Create a new column in `cars` that contains the median weight for each car based on the car's origin.  That is, cars from the USA should list the median weight for USA cars (3365 lbs), cars from Japan should list the median weight for Japanese cars, etc.  Call this column \"origin_median_weight\"."
   ]
  },
  {
   "cell_type": "code",
   "execution_count": null,
   "metadata": {
    "colab": {
     "base_uri": "https://localhost:8080/",
     "height": 195
    },
    "executionInfo": {
     "elapsed": 1587,
     "status": "ok",
     "timestamp": 1607807982248,
     "user": {
      "displayName": "Don Perkus",
      "photoUrl": "",
      "userId": "17299458734576349048"
     },
     "user_tz": 300
    },
    "id": "ynz1lFjWuD8s",
    "outputId": "604912b3-abcd-4218-879b-1a9e81fd0250"
   },
   "outputs": [],
   "source": [
    "# YOUR CODE HERE\n",
    "raise NotImplementedError()\n",
    "\n",
    "cars.sample(5, random_state=11)"
   ]
  },
  {
   "cell_type": "code",
   "execution_count": null,
   "metadata": {
    "id": "HJvHakDEu7ET"
   },
   "outputs": [],
   "source": [
    "assert 'origin_median_weight' in cars.columns, \"Add the origin_median_weight column directly to the cars dataframe.\"\n",
    "assert cars.origin_median_weight.dtype == np.int64, \"The origin_median_weight column should contain integer values.\"\n",
    "assert cars.origin_median_weight.isna().sum() == 0, \"You should not create any missing values in the origin_median_weight column.\"\n",
    "assert cars.origin_median_weight.nunique() == 3, \"Since there are only 3 origins in this dataset, you should only have 3 different values in the origin_median_weight column.\""
   ]
  },
  {
   "cell_type": "code",
   "execution_count": null,
   "metadata": {
    "id": "6YqX2V6lvIGB"
   },
   "outputs": [],
   "source": []
  },
  {
   "cell_type": "markdown",
   "metadata": {
    "id": "KGqILbY8nsBW"
   },
   "source": [
    "## Exercise 3 - Next Best MPG\n",
    "\n",
    "These cars data are often used to understand what contributes to higher gas mileage, given in the \"mpg\" column.  Higher gas mileage values are better in that the same amount of gas provides the ability to travel more miles.\n",
    "\n",
    "Create a new column in the `cars` dataframe called \"next_best_mpg\" to provide consumers with a car with a slightly better mpg but with the same cylinders.  This column should contain the name of the car with the next best mpg that has the same number of cylinders.  For example, the next best mpg for the first row would be the \"plymouth satellite\" because this car also has 8 cylinders, but the Plymouth Satellite has a slightly higher mpg value.\n",
    "\n",
    "You will need to start from a dataframe that is sorted by \"mpg\", which we have done for you.  After you create your solution, we have sorted `cars` by index to show you the top rows, but you may want to inspect other views of the data. \n",
    "\n",
    "You will also be creating null values in the \"next_best_mpg\" column.  This is to be expected since some cars have the best MPG out of all of the cars in their cylinder group; no other car has a better MPG so a null value should show up.\n",
    "\n",
    "*Hint*: One pandas method that was covered in the \"Advanced Pandas: Other Helpful Methods\" chapter is particularly helpful for answering this question!"
   ]
  },
  {
   "cell_type": "code",
   "execution_count": null,
   "metadata": {
    "colab": {
     "base_uri": "https://localhost:8080/",
     "height": 279
    },
    "executionInfo": {
     "elapsed": 1580,
     "status": "ok",
     "timestamp": 1607807982252,
     "user": {
      "displayName": "Don Perkus",
      "photoUrl": "",
      "userId": "17299458734576349048"
     },
     "user_tz": 300
    },
    "id": "VD8SapmxnrT-",
    "outputId": "1b9cb8f1-daac-4234-b162-77708ca8abb1"
   },
   "outputs": [],
   "source": [
    "cars.sort_values('mpg', inplace=True)\n",
    "\n",
    "# YOUR CODE HERE\n",
    "raise NotImplementedError()\n",
    "\n",
    "cars.sort_index(inplace=True)\n",
    "\n",
    "cars.head()"
   ]
  },
  {
   "cell_type": "code",
   "execution_count": null,
   "metadata": {
    "id": "4vb2q9tMsHNf"
   },
   "outputs": [],
   "source": [
    "assert 'next_best_mpg' in cars.columns, \"Please add a next_best_mpg column directly to cars.\"\n",
    "assert cars.next_best_mpg.dtypes == 'O', \"The next_best_mpg column should contain string values.\"\n",
    "assert cars.next_best_mpg.isna().sum() == 5, \"You will create 5 missing values in the next_best_mpg column.\"\n",
    "assert cars.next_best_mpg.nunique() > 300, \"There should be just over 300 unique car names in the next_best_mpg column.\""
   ]
  },
  {
   "cell_type": "code",
   "execution_count": null,
   "metadata": {
    "id": "PBNYL56us3cz"
   },
   "outputs": [],
   "source": []
  },
  {
   "cell_type": "code",
   "execution_count": null,
   "metadata": {
    "id": "0RGXoXfwtulP"
   },
   "outputs": [],
   "source": []
  }
 ],
 "metadata": {
  "colab": {
   "name": "datacleaning-chapter7-exercises.ipynb",
   "provenance": []
  },
  "kernelspec": {
   "display_name": "Python 3 (ipykernel)",
   "language": "python",
   "name": "python3"
  },
  "language_info": {
   "codemirror_mode": {
    "name": "ipython",
    "version": 3
   },
   "file_extension": ".py",
   "mimetype": "text/x-python",
   "name": "python",
   "nbconvert_exporter": "python",
   "pygments_lexer": "ipython3",
   "version": "3.9.7"
  }
 },
 "nbformat": 4,
 "nbformat_minor": 4
}
