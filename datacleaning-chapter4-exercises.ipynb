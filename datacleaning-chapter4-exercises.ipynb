{
 "cells": [
  {
   "cell_type": "markdown",
   "metadata": {
    "id": "zqWNWWC6TABj"
   },
   "source": [
    "# Chapter 4 - Cleaning String Data"
   ]
  },
  {
   "cell_type": "code",
   "execution_count": 1,
   "metadata": {
    "executionInfo": {
     "elapsed": 657,
     "status": "ok",
     "timestamp": 1607985446027,
     "user": {
      "displayName": "Kimberly Fessel",
      "photoUrl": "https://lh3.googleusercontent.com/a-/AOh14GgaW0VCIxWlhnaaeesuuDgx7k2z29m1Yw_q0_Cc=s64",
      "userId": "09492636377810448153"
     },
     "user_tz": 300
    },
    "id": "8fBjvFPoS67s"
   },
   "outputs": [],
   "source": [
    "import pandas as pd\n",
    "pd.options.mode.chained_assignment = None"
   ]
  },
  {
   "cell_type": "markdown",
   "metadata": {
    "id": "nX0hkgN8Z0SZ"
   },
   "source": [
    "Please perform calculations on this dataframe about US states (`states`) for the exercises in this chapter."
   ]
  },
  {
   "cell_type": "code",
   "execution_count": 2,
   "metadata": {
    "executionInfo": {
     "elapsed": 979,
     "status": "ok",
     "timestamp": 1607985142156,
     "user": {
      "displayName": "Kimberly Fessel",
      "photoUrl": "https://lh3.googleusercontent.com/a-/AOh14GgaW0VCIxWlhnaaeesuuDgx7k2z29m1Yw_q0_Cc=s64",
      "userId": "09492636377810448153"
     },
     "user_tz": 300
    },
    "id": "-9N_xQnSTFSY"
   },
   "outputs": [],
   "source": [
    "### !!!! Currently using my Github to host these files -- please switch to Metis-owned S3 bucket !!!!\n",
    "\n",
    "states = pd.read_csv('https://github.com/kimfetti/Projects/blob/master/Etc/scraped_wiki_states.csv?raw=True')"
   ]
  },
  {
   "cell_type": "code",
   "execution_count": 3,
   "metadata": {
    "colab": {
     "base_uri": "https://localhost:8080/",
     "height": 198
    },
    "executionInfo": {
     "elapsed": 972,
     "status": "ok",
     "timestamp": 1607985142157,
     "user": {
      "displayName": "Kimberly Fessel",
      "photoUrl": "https://lh3.googleusercontent.com/a-/AOh14GgaW0VCIxWlhnaaeesuuDgx7k2z29m1Yw_q0_Cc=s64",
      "userId": "09492636377810448153"
     },
     "user_tz": 300
    },
    "id": "IOO51oLSVNfk",
    "outputId": "f3be4eae-b236-44b8-9b8f-c972af0bfc95"
   },
   "outputs": [
    {
     "data": {
      "text/html": [
       "<div>\n",
       "<style scoped>\n",
       "    .dataframe tbody tr th:only-of-type {\n",
       "        vertical-align: middle;\n",
       "    }\n",
       "\n",
       "    .dataframe tbody tr th {\n",
       "        vertical-align: top;\n",
       "    }\n",
       "\n",
       "    .dataframe thead th {\n",
       "        text-align: right;\n",
       "    }\n",
       "</style>\n",
       "<table border=\"1\" class=\"dataframe\">\n",
       "  <thead>\n",
       "    <tr style=\"text-align: right;\">\n",
       "      <th></th>\n",
       "      <th>state</th>\n",
       "      <th>date_admitted</th>\n",
       "      <th>population</th>\n",
       "      <th>area_sq_mi</th>\n",
       "      <th>median_household_income</th>\n",
       "    </tr>\n",
       "  </thead>\n",
       "  <tbody>\n",
       "    <tr>\n",
       "      <th>0</th>\n",
       "      <td>Alabama</td>\n",
       "      <td>December 14, 1819</td>\n",
       "      <td>4,903,185</td>\n",
       "      <td>52,419</td>\n",
       "      <td>$48,123</td>\n",
       "    </tr>\n",
       "    <tr>\n",
       "      <th>1</th>\n",
       "      <td>Alaska</td>\n",
       "      <td>January 3, 1959</td>\n",
       "      <td>710,249</td>\n",
       "      <td>663,268</td>\n",
       "      <td>$73,181</td>\n",
       "    </tr>\n",
       "    <tr>\n",
       "      <th>2</th>\n",
       "      <td>Arizona</td>\n",
       "      <td>February 14, 1912</td>\n",
       "      <td>7,278,717</td>\n",
       "      <td>113,990</td>\n",
       "      <td>$56,581</td>\n",
       "    </tr>\n",
       "    <tr>\n",
       "      <th>3</th>\n",
       "      <td>Arkansas</td>\n",
       "      <td>June 15, 1836</td>\n",
       "      <td>3,017,804</td>\n",
       "      <td>53,179</td>\n",
       "      <td>$45,869</td>\n",
       "    </tr>\n",
       "    <tr>\n",
       "      <th>4</th>\n",
       "      <td>California</td>\n",
       "      <td>September 9, 1850</td>\n",
       "      <td>39,512,223</td>\n",
       "      <td>163,696</td>\n",
       "      <td>$71,228</td>\n",
       "    </tr>\n",
       "  </tbody>\n",
       "</table>\n",
       "</div>"
      ],
      "text/plain": [
       "        state       date_admitted  population area_sq_mi  \\\n",
       "0     Alabama  December 14, 1819    4,903,185     52,419   \n",
       "1      Alaska    January 3, 1959      710,249    663,268   \n",
       "2     Arizona  February 14, 1912    7,278,717    113,990   \n",
       "3    Arkansas      June 15, 1836    3,017,804     53,179   \n",
       "4  California  September 9, 1850   39,512,223    163,696   \n",
       "\n",
       "  median_household_income  \n",
       "0                 $48,123  \n",
       "1                 $73,181  \n",
       "2                 $56,581  \n",
       "3                 $45,869  \n",
       "4                 $71,228  "
      ]
     },
     "execution_count": 3,
     "metadata": {},
     "output_type": "execute_result"
    }
   ],
   "source": [
    "states.head()"
   ]
  },
  {
   "cell_type": "markdown",
   "metadata": {
    "id": "r5hDX9FgaNh3"
   },
   "source": [
    "## Exercise 1\n",
    "\n",
    "What is the average population of the US states including in this `states` dataframe? Save your answer as a variable called `avg_pop`.\n",
    "\n",
    "You will first need to make the population column ready for analysis which may include handling missing values.  Do not modify the `states` dataframe directly.  We have created a copy called `states_copy` that you can adjust."
   ]
  },
  {
   "cell_type": "code",
   "execution_count": 62,
   "metadata": {
    "colab": {
     "base_uri": "https://localhost:8080/",
     "height": 198
    },
    "executionInfo": {
     "elapsed": 1214,
     "status": "ok",
     "timestamp": 1607985142406,
     "user": {
      "displayName": "Kimberly Fessel",
      "photoUrl": "https://lh3.googleusercontent.com/a-/AOh14GgaW0VCIxWlhnaaeesuuDgx7k2z29m1Yw_q0_Cc=s64",
      "userId": "09492636377810448153"
     },
     "user_tz": 300
    },
    "id": "oQ4MMy-OVcNQ",
    "outputId": "fa58a064-eea1-4a14-faf8-714949d733dc"
   },
   "outputs": [
    {
     "name": "stdout",
     "output_type": "stream",
     "text": [
      "<class 'pandas.core.frame.DataFrame'>\n",
      "Int64Index: 48 entries, 0 to 49\n",
      "Data columns (total 5 columns):\n",
      " #   Column                   Non-Null Count  Dtype \n",
      "---  ------                   --------------  ----- \n",
      " 0   state                    48 non-null     object\n",
      " 1   date_admitted            48 non-null     object\n",
      " 2   population               48 non-null     int64 \n",
      " 3   area_sq_mi               48 non-null     object\n",
      " 4   median_household_income  48 non-null     object\n",
      "dtypes: int64(1), object(4)\n",
      "memory usage: 2.2+ KB\n"
     ]
    }
   ],
   "source": [
    "states_copy = states.copy()\n",
    "\n",
    "# YOUR CODE HERE\n",
    "#raise NotImplementedError()\n",
    "\n",
    "states_copy.dropna(inplace=True)\n",
    "states_copy['population'] = states_copy['population'].str.replace(',','')\n",
    "states_copy.population = states_copy.population.astype(int)\n",
    "\n",
    "states_copy.head()\n",
    "\n",
    "states_copy.info()"
   ]
  },
  {
   "cell_type": "code",
   "execution_count": 63,
   "metadata": {
    "colab": {
     "base_uri": "https://localhost:8080/"
    },
    "executionInfo": {
     "elapsed": 1087,
     "status": "ok",
     "timestamp": 1607985142407,
     "user": {
      "displayName": "Kimberly Fessel",
      "photoUrl": "https://lh3.googleusercontent.com/a-/AOh14GgaW0VCIxWlhnaaeesuuDgx7k2z29m1Yw_q0_Cc=s64",
      "userId": "09492636377810448153"
     },
     "user_tz": 300
    },
    "id": "YljHOsZwYDSc",
    "outputId": "0fd41c17-9272-4d27-f016-0fa607471983"
   },
   "outputs": [],
   "source": [
    "avg_pop = states_copy['population'].mean()"
   ]
  },
  {
   "cell_type": "code",
   "execution_count": 64,
   "metadata": {
    "executionInfo": {
     "elapsed": 477,
     "status": "ok",
     "timestamp": 1607985142819,
     "user": {
      "displayName": "Kimberly Fessel",
      "photoUrl": "https://lh3.googleusercontent.com/a-/AOh14GgaW0VCIxWlhnaaeesuuDgx7k2z29m1Yw_q0_Cc=s64",
      "userId": "09492636377810448153"
     },
     "user_tz": 300
    },
    "id": "BAKexh7iYJvh"
   },
   "outputs": [],
   "source": [
    "assert isinstance(avg_pop, float), \"Your avg_pop variable should be a float.\"\n",
    "assert states_copy.population.dtype in [int, float], \"Be sure to convert the population column to numerical values.\"\n",
    "assert avg_pop > 5000000, \"The population for states in this dataset averages over 5 million people.\""
   ]
  },
  {
   "cell_type": "code",
   "execution_count": null,
   "metadata": {
    "executionInfo": {
     "elapsed": 398,
     "status": "ok",
     "timestamp": 1607985458566,
     "user": {
      "displayName": "Kimberly Fessel",
      "photoUrl": "https://lh3.googleusercontent.com/a-/AOh14GgaW0VCIxWlhnaaeesuuDgx7k2z29m1Yw_q0_Cc=s64",
      "userId": "09492636377810448153"
     },
     "user_tz": 300
    },
    "id": "nNVxDsUWZfTq"
   },
   "outputs": [],
   "source": []
  },
  {
   "cell_type": "markdown",
   "metadata": {
    "id": "PIJRY5A4sRQB"
   },
   "source": [
    "## Exercise 2 - \"land\" vs \"ana\"\n",
    "\n",
    "Do more states contain the word \"land\" or the substring \"ana\"?  \n",
    "\n",
    "Create two new dataframes to find out:\n",
    "- `land`, a dataframe of only states that contain \"land\"\n",
    "- `ana`, a dataframe of only states that contain \"ana\"\n",
    "\n",
    "Both `land` and `ana` should have the same columns as `states` but should only include states whose names contain \"land\" or \"ana\", respectively.\n",
    "\n",
    "We have gone ahead and droped rows with missing values from `states`."
   ]
  },
  {
   "cell_type": "code",
   "execution_count": 66,
   "metadata": {
    "id": "hdpgHjQPrZzT"
   },
   "outputs": [],
   "source": [
    "states.dropna(inplace=True)"
   ]
  },
  {
   "cell_type": "code",
   "execution_count": 79,
   "metadata": {
    "colab": {
     "base_uri": "https://localhost:8080/",
     "height": 106
    },
    "executionInfo": {
     "elapsed": 1117,
     "status": "ok",
     "timestamp": 1607807106547,
     "user": {
      "displayName": "Don Perkus",
      "photoUrl": "",
      "userId": "17299458734576349048"
     },
     "user_tz": 300
    },
    "id": "2MJsZW2Qsc7T",
    "outputId": "425a14cb-11d1-444c-ebfc-89794d5baaa2"
   },
   "outputs": [],
   "source": [
    "# YOUR CODE HERE\n",
    "#raise NotImplementedError()\n",
    "\n",
    "has_land = states.state.str.contains('land')\n",
    "\n",
    "land = states[states.state.str.contains('land')]"
   ]
  },
  {
   "cell_type": "code",
   "execution_count": 80,
   "metadata": {
    "colab": {
     "base_uri": "https://localhost:8080/",
     "height": 136
    },
    "executionInfo": {
     "elapsed": 1109,
     "status": "ok",
     "timestamp": 1607807106547,
     "user": {
      "displayName": "Don Perkus",
      "photoUrl": "",
      "userId": "17299458734576349048"
     },
     "user_tz": 300
    },
    "id": "sljJ-cEytpA3",
    "outputId": "0a1d1b31-d3f0-46e3-9266-de44ea19f656"
   },
   "outputs": [],
   "source": [
    "ana = states[states.state.str.contains('ana')]"
   ]
  },
  {
   "cell_type": "code",
   "execution_count": 81,
   "metadata": {
    "id": "hJBv0QTGtqdA"
   },
   "outputs": [],
   "source": [
    "assert type(land) == pd.DataFrame, \"Both land and ana should be pandas dataframes.\"\n",
    "assert type(ana) == pd.DataFrame, \"Both land and ana should be pandas dataframes.\"\n",
    "assert land.shape[1] == states.shape[1], \"Both land and ana should have the same number of columns as the states dataframe.\"\n",
    "assert ana.shape[1] == states.shape[1], \"Both land and ana should have the same number of columns as the states dataframe.\"\n",
    "assert states.population.dtype == 'O', 'You should not have altered the population column of states during Exercise 1.'"
   ]
  },
  {
   "cell_type": "code",
   "execution_count": null,
   "metadata": {
    "id": "1XrRXzWot2kx"
   },
   "outputs": [],
   "source": []
  },
  {
   "cell_type": "markdown",
   "metadata": {
    "id": "uK9HPl4eucu2"
   },
   "source": [
    "## Exercise 3\n",
    "\n",
    "Create a new pandas series called `upper_states` that contains the names of all states included in this `states` dataframe written in uppercase letters and in **reverse** alphabetical order."
   ]
  },
  {
   "cell_type": "code",
   "execution_count": 95,
   "metadata": {
    "colab": {
     "base_uri": "https://localhost:8080/"
    },
    "executionInfo": {
     "elapsed": 1307,
     "status": "ok",
     "timestamp": 1607807106756,
     "user": {
      "displayName": "Don Perkus",
      "photoUrl": "",
      "userId": "17299458734576349048"
     },
     "user_tz": 300
    },
    "id": "BjjLa99fuQH6",
    "outputId": "afe34a62-af23-4e44-ba41-0ebcab685a57"
   },
   "outputs": [
    {
     "data": {
      "text/plain": [
       "49          WYOMING\n",
       "48        WISCONSIN\n",
       "47    WEST VIRGINIA\n",
       "46       WASHINGTON\n",
       "45         VIRGINIA\n",
       "Name: state, dtype: object"
      ]
     },
     "execution_count": 95,
     "metadata": {},
     "output_type": "execute_result"
    }
   ],
   "source": [
    "# YOUR CODE HERE\n",
    "#raise NotImplementedError()\n",
    "upper_states = states.state.str.upper()\n",
    "upper_states = upper_states.sort_values(ascending=False)\n",
    "\n",
    "upper_states.head()"
   ]
  },
  {
   "cell_type": "code",
   "execution_count": 96,
   "metadata": {
    "id": "BE04_IpavXdx"
   },
   "outputs": [],
   "source": [
    "assert states.state.isna().sum() == 0, \"The state column should no longer contain any missing values.  See Exercise 2.\"\n",
    "assert type(upper_states) == pd.Series, \"Make sure that upper_states is a pandas series.\"\n",
    "assert len(upper_states) == len(states), \"upper_states contain the names of all states in the states dataframe.\"\n",
    "assert upper_states.iloc[0] > upper_states.iloc[-1], \"Be sure to sort upper_states descending.\""
   ]
  },
  {
   "cell_type": "code",
   "execution_count": null,
   "metadata": {
    "id": "ZleP_jChvD_g"
   },
   "outputs": [],
   "source": []
  },
  {
   "cell_type": "code",
   "execution_count": null,
   "metadata": {
    "id": "eouQ1LsewYP7"
   },
   "outputs": [],
   "source": []
  }
 ],
 "metadata": {
  "colab": {
   "name": "datacleaning-chapter4-exercises.ipynb",
   "provenance": []
  },
  "kernelspec": {
   "display_name": "Python 3 (ipykernel)",
   "language": "python",
   "name": "python3"
  },
  "language_info": {
   "codemirror_mode": {
    "name": "ipython",
    "version": 3
   },
   "file_extension": ".py",
   "mimetype": "text/x-python",
   "name": "python",
   "nbconvert_exporter": "python",
   "pygments_lexer": "ipython3",
   "version": "3.9.7"
  }
 },
 "nbformat": 4,
 "nbformat_minor": 4
}
