{
 "cells": [
  {
   "cell_type": "markdown",
   "metadata": {
    "id": "Xp8NbgxWJhco"
   },
   "source": [
    "# Chapter 6 - Case Study \\#2: Diagnosing Errors"
   ]
  },
  {
   "cell_type": "code",
   "execution_count": 1,
   "metadata": {
    "executionInfo": {
     "elapsed": 367,
     "status": "ok",
     "timestamp": 1607807818918,
     "user": {
      "displayName": "Don Perkus",
      "photoUrl": "",
      "userId": "17299458734576349048"
     },
     "user_tz": 300
    },
    "id": "orRmW56CJc7n"
   },
   "outputs": [],
   "source": [
    "import pandas as pd\n",
    "\n",
    "import numpy as np\n",
    "from dateutil.parser import ParserError\n",
    "import pandas.api.types as ptypes"
   ]
  },
  {
   "cell_type": "markdown",
   "metadata": {
    "id": "PTehLzOdK35C"
   },
   "source": [
    "Please perform calculations on this dataframe about US states (`states`) for the exercises in this chapter."
   ]
  },
  {
   "cell_type": "code",
   "execution_count": 2,
   "metadata": {
    "executionInfo": {
     "elapsed": 1237,
     "status": "ok",
     "timestamp": 1607807819792,
     "user": {
      "displayName": "Don Perkus",
      "photoUrl": "",
      "userId": "17299458734576349048"
     },
     "user_tz": 300
    },
    "id": "yGWhzer7Jo9p"
   },
   "outputs": [],
   "source": [
    "### !!!! Currently using my Github to host these files -- please switch to Metis-owned S3 bucket !!!!\n",
    "\n",
    "states = pd.read_csv('https://github.com/kimfetti/Projects/blob/master/Etc/scraped_wiki_states_edit.csv?raw=True')"
   ]
  },
  {
   "cell_type": "code",
   "execution_count": 3,
   "metadata": {
    "colab": {
     "base_uri": "https://localhost:8080/",
     "height": 195
    },
    "executionInfo": {
     "elapsed": 1227,
     "status": "ok",
     "timestamp": 1607807819793,
     "user": {
      "displayName": "Don Perkus",
      "photoUrl": "",
      "userId": "17299458734576349048"
     },
     "user_tz": 300
    },
    "id": "Ie1l3LtCLGqx",
    "outputId": "c9881852-770f-4f64-cc0c-7a94e89ade90"
   },
   "outputs": [
    {
     "data": {
      "text/html": [
       "<div>\n",
       "<style scoped>\n",
       "    .dataframe tbody tr th:only-of-type {\n",
       "        vertical-align: middle;\n",
       "    }\n",
       "\n",
       "    .dataframe tbody tr th {\n",
       "        vertical-align: top;\n",
       "    }\n",
       "\n",
       "    .dataframe thead th {\n",
       "        text-align: right;\n",
       "    }\n",
       "</style>\n",
       "<table border=\"1\" class=\"dataframe\">\n",
       "  <thead>\n",
       "    <tr style=\"text-align: right;\">\n",
       "      <th></th>\n",
       "      <th>state</th>\n",
       "      <th>date_admitted</th>\n",
       "      <th>population</th>\n",
       "      <th>area_sq_mi</th>\n",
       "      <th>median_household_income</th>\n",
       "    </tr>\n",
       "  </thead>\n",
       "  <tbody>\n",
       "    <tr>\n",
       "      <th>0</th>\n",
       "      <td>Alabama</td>\n",
       "      <td>December 14, 1819</td>\n",
       "      <td>4,903,185</td>\n",
       "      <td>52,419</td>\n",
       "      <td>$48,123</td>\n",
       "    </tr>\n",
       "    <tr>\n",
       "      <th>1</th>\n",
       "      <td>Alaska</td>\n",
       "      <td>January 3, 1959</td>\n",
       "      <td>710,249</td>\n",
       "      <td>663,268</td>\n",
       "      <td>$73,181</td>\n",
       "    </tr>\n",
       "    <tr>\n",
       "      <th>2</th>\n",
       "      <td>Arizona</td>\n",
       "      <td>February 14, 1912</td>\n",
       "      <td>7,278,717</td>\n",
       "      <td>113,990</td>\n",
       "      <td>$56,581</td>\n",
       "    </tr>\n",
       "    <tr>\n",
       "      <th>3</th>\n",
       "      <td>Arkansas</td>\n",
       "      <td>June 15, 1836</td>\n",
       "      <td>3,017,804</td>\n",
       "      <td>53,179</td>\n",
       "      <td>$45,869</td>\n",
       "    </tr>\n",
       "    <tr>\n",
       "      <th>4</th>\n",
       "      <td>California</td>\n",
       "      <td>September 9, 1850</td>\n",
       "      <td>39,512,223</td>\n",
       "      <td>163,696</td>\n",
       "      <td>$71,228</td>\n",
       "    </tr>\n",
       "  </tbody>\n",
       "</table>\n",
       "</div>"
      ],
      "text/plain": [
       "        state       date_admitted  population area_sq_mi  \\\n",
       "0     Alabama  December 14, 1819    4,903,185     52,419   \n",
       "1      Alaska    January 3, 1959      710,249    663,268   \n",
       "2     Arizona  February 14, 1912    7,278,717    113,990   \n",
       "3    Arkansas      June 15, 1836    3,017,804     53,179   \n",
       "4  California  September 9, 1850   39,512,223    163,696   \n",
       "\n",
       "  median_household_income  \n",
       "0                 $48,123  \n",
       "1                 $73,181  \n",
       "2                 $56,581  \n",
       "3                 $45,869  \n",
       "4                 $71,228  "
      ]
     },
     "execution_count": 3,
     "metadata": {},
     "output_type": "execute_result"
    }
   ],
   "source": [
    "states.head()"
   ]
  },
  {
   "cell_type": "markdown",
   "metadata": {
    "id": "8asdwgV8L0Mh"
   },
   "source": [
    "## Exercise 1 - Messy Rows\n",
    "\n",
    "The information in `states` are organized as one row per US state.  While there are only 50 US states, this dataframe currenly has 55 rows.  What row issues can you find in `states`?  Check for\n",
    "- Missing states\n",
    "- Inconsistent states\n",
    "- Duplicate states\n",
    "\n",
    "Once you have filtered out the messy rows, save your results as a new dataframe `states_48`.  \n",
    "\n",
    "_Hint_: You will eventually find information for only 48 states.  "
   ]
  },
  {
   "cell_type": "code",
   "execution_count": 4,
   "metadata": {
    "colab": {
     "base_uri": "https://localhost:8080/"
    },
    "executionInfo": {
     "elapsed": 1220,
     "status": "ok",
     "timestamp": 1607807819793,
     "user": {
      "displayName": "Don Perkus",
      "photoUrl": "",
      "userId": "17299458734576349048"
     },
     "user_tz": 300
    },
    "id": "15zW_uQ0NGvw",
    "outputId": "460449d6-7e3d-47e5-f0b2-8ea6e510c2fa"
   },
   "outputs": [
    {
     "data": {
      "text/plain": [
       "(55, 5)"
      ]
     },
     "execution_count": 4,
     "metadata": {},
     "output_type": "execute_result"
    }
   ],
   "source": [
    "states.shape"
   ]
  },
  {
   "cell_type": "code",
   "execution_count": 11,
   "metadata": {
    "colab": {
     "base_uri": "https://localhost:8080/",
     "height": 195
    },
    "executionInfo": {
     "elapsed": 1213,
     "status": "ok",
     "timestamp": 1607807819794,
     "user": {
      "displayName": "Don Perkus",
      "photoUrl": "",
      "userId": "17299458734576349048"
     },
     "user_tz": 300
    },
    "id": "w2v1d-BpNVmn",
    "outputId": "c53195ee-c932-4afa-cb04-43c69783167e"
   },
   "outputs": [
    {
     "data": {
      "text/html": [
       "<div>\n",
       "<style scoped>\n",
       "    .dataframe tbody tr th:only-of-type {\n",
       "        vertical-align: middle;\n",
       "    }\n",
       "\n",
       "    .dataframe tbody tr th {\n",
       "        vertical-align: top;\n",
       "    }\n",
       "\n",
       "    .dataframe thead th {\n",
       "        text-align: right;\n",
       "    }\n",
       "</style>\n",
       "<table border=\"1\" class=\"dataframe\">\n",
       "  <thead>\n",
       "    <tr style=\"text-align: right;\">\n",
       "      <th></th>\n",
       "      <th>state</th>\n",
       "      <th>date_admitted</th>\n",
       "      <th>population</th>\n",
       "      <th>area_sq_mi</th>\n",
       "      <th>median_household_income</th>\n",
       "    </tr>\n",
       "  </thead>\n",
       "  <tbody>\n",
       "    <tr>\n",
       "      <th>0</th>\n",
       "      <td>Alabama</td>\n",
       "      <td>December 14, 1819</td>\n",
       "      <td>4,903,185</td>\n",
       "      <td>52,419</td>\n",
       "      <td>$48,123</td>\n",
       "    </tr>\n",
       "    <tr>\n",
       "      <th>1</th>\n",
       "      <td>Alaska</td>\n",
       "      <td>January 3, 1959</td>\n",
       "      <td>710,249</td>\n",
       "      <td>663,268</td>\n",
       "      <td>$73,181</td>\n",
       "    </tr>\n",
       "    <tr>\n",
       "      <th>2</th>\n",
       "      <td>Arizona</td>\n",
       "      <td>February 14, 1912</td>\n",
       "      <td>7,278,717</td>\n",
       "      <td>113,990</td>\n",
       "      <td>$56,581</td>\n",
       "    </tr>\n",
       "    <tr>\n",
       "      <th>3</th>\n",
       "      <td>Arkansas</td>\n",
       "      <td>June 15, 1836</td>\n",
       "      <td>3,017,804</td>\n",
       "      <td>53,179</td>\n",
       "      <td>$45,869</td>\n",
       "    </tr>\n",
       "    <tr>\n",
       "      <th>4</th>\n",
       "      <td>California</td>\n",
       "      <td>September 9, 1850</td>\n",
       "      <td>39,512,223</td>\n",
       "      <td>163,696</td>\n",
       "      <td>$71,228</td>\n",
       "    </tr>\n",
       "  </tbody>\n",
       "</table>\n",
       "</div>"
      ],
      "text/plain": [
       "        state       date_admitted  population area_sq_mi  \\\n",
       "0     Alabama  December 14, 1819    4,903,185     52,419   \n",
       "1      Alaska    January 3, 1959      710,249    663,268   \n",
       "2     Arizona  February 14, 1912    7,278,717    113,990   \n",
       "3    Arkansas      June 15, 1836    3,017,804     53,179   \n",
       "4  California  September 9, 1850   39,512,223    163,696   \n",
       "\n",
       "  median_household_income  \n",
       "0                 $48,123  \n",
       "1                 $73,181  \n",
       "2                 $56,581  \n",
       "3                 $45,869  \n",
       "4                 $71,228  "
      ]
     },
     "execution_count": 11,
     "metadata": {},
     "output_type": "execute_result"
    }
   ],
   "source": [
    "# YOUR CODE HERE\n",
    "#raise NotImplementedError()\n",
    "states.drop_duplicates(inplace=True)\n",
    "states_48 = states.dropna()\n",
    "\n",
    "states_48.head()"
   ]
  },
  {
   "cell_type": "code",
   "execution_count": 12,
   "metadata": {
    "colab": {
     "base_uri": "https://localhost:8080/"
    },
    "executionInfo": {
     "elapsed": 1417,
     "status": "ok",
     "timestamp": 1607807820004,
     "user": {
      "displayName": "Don Perkus",
      "photoUrl": "",
      "userId": "17299458734576349048"
     },
     "user_tz": 300
    },
    "id": "nHT2eEBwOSx4",
    "outputId": "df7cfa4c-7110-4637-dd97-9629f4fa924a"
   },
   "outputs": [
    {
     "data": {
      "text/plain": [
       "(48, 5)"
      ]
     },
     "execution_count": 12,
     "metadata": {},
     "output_type": "execute_result"
    }
   ],
   "source": [
    "states_48.shape"
   ]
  },
  {
   "cell_type": "code",
   "execution_count": 13,
   "metadata": {
    "executionInfo": {
     "elapsed": 1416,
     "status": "ok",
     "timestamp": 1607807820005,
     "user": {
      "displayName": "Don Perkus",
      "photoUrl": "",
      "userId": "17299458734576349048"
     },
     "user_tz": 300
    },
    "id": "5QrT4SqIOaWN"
   },
   "outputs": [],
   "source": [
    "assert type(states_48) == pd.DataFrame, \"Be sure states_48 is a pandas dataframe.\"\n",
    "assert states_48.state.isna().sum() == 0, \"Drop rows that are missing state information from state_48.\"\n",
    "assert states_48.shape == (48, 5), \"states_48 should only have 48 rows and should still have 5 columns.\"\n",
    "assert states_48.state.nunique() == 48, \"You should find information for 48 unique states.\""
   ]
  },
  {
   "cell_type": "code",
   "execution_count": null,
   "metadata": {
    "executionInfo": {
     "elapsed": 1415,
     "status": "ok",
     "timestamp": 1607807820006,
     "user": {
      "displayName": "Don Perkus",
      "photoUrl": "",
      "userId": "17299458734576349048"
     },
     "user_tz": 300
    },
    "id": "Lcf1NuEOPUKI"
   },
   "outputs": [],
   "source": []
  },
  {
   "cell_type": "markdown",
   "metadata": {
    "id": "v3enSJX4PqT1"
   },
   "source": [
    "## Exercise 2 - Two-word States\n",
    "\n",
    "How many two-word states are there in your cleaned up dataframe of 48 states?  Create two new variables for this exercise:\n",
    "- `ser_two_word`: a pandas series that contains either\n",
    "  1. the state's name for one-word states or\n",
    "  2. the string \"TWO WORDS\" for all two-word states\n",
    "- `count_two_word`: an integer of the number of two-word states in this dataset\n",
    "\n",
    "Make a custom function to map onto the \"state\" column of `states_48` to create `ser_two_word`.  You may also want to print out the name of each two-word state you find to verify your code is working.  Once `ser_two_word` is created, you may find it easier to then make `count_two_word` based off of it."
   ]
  },
  {
   "cell_type": "code",
   "execution_count": null,
   "metadata": {
    "colab": {
     "base_uri": "https://localhost:8080/"
    },
    "executionInfo": {
     "elapsed": 1408,
     "status": "ok",
     "timestamp": 1607807820006,
     "user": {
      "displayName": "Don Perkus",
      "photoUrl": "",
      "userId": "17299458734576349048"
     },
     "user_tz": 300
    },
    "id": "-L-T-PEPPoWH",
    "outputId": "80e87796-ae53-452b-9979-8960a18b3334"
   },
   "outputs": [],
   "source": [
    "# YOUR CODE HERE\n",
    "#raise NotImplementedError()\n",
    "\n",
    "ser_two_word = states.state.map(lambda x: str        "
   ]
  },
  {
   "cell_type": "code",
   "execution_count": null,
   "metadata": {
    "colab": {
     "base_uri": "https://localhost:8080/"
    },
    "executionInfo": {
     "elapsed": 1404,
     "status": "ok",
     "timestamp": 1607807820007,
     "user": {
      "displayName": "Don Perkus",
      "photoUrl": "",
      "userId": "17299458734576349048"
     },
     "user_tz": 300
    },
    "id": "PgX5HtT6RX7z",
    "outputId": "35dce1ef-2149-4389-87fd-ffc7b094b92a"
   },
   "outputs": [],
   "source": [
    "ser_two_word[-5:]"
   ]
  },
  {
   "cell_type": "code",
   "execution_count": null,
   "metadata": {
    "colab": {
     "base_uri": "https://localhost:8080/"
    },
    "executionInfo": {
     "elapsed": 1399,
     "status": "ok",
     "timestamp": 1607807820008,
     "user": {
      "displayName": "Don Perkus",
      "photoUrl": "",
      "userId": "17299458734576349048"
     },
     "user_tz": 300
    },
    "id": "p4sImO-yTykB",
    "outputId": "face30a2-8bfe-4561-e296-1f79f7ae6418"
   },
   "outputs": [],
   "source": [
    "count_two_word"
   ]
  },
  {
   "cell_type": "code",
   "execution_count": null,
   "metadata": {
    "executionInfo": {
     "elapsed": 1398,
     "status": "ok",
     "timestamp": 1607807820009,
     "user": {
      "displayName": "Don Perkus",
      "photoUrl": "",
      "userId": "17299458734576349048"
     },
     "user_tz": 300
    },
    "id": "FqLj1d-nUlTZ"
   },
   "outputs": [],
   "source": [
    "assert type(ser_two_word) == pd.Series, \"Be sure ser_two_word is a pandas series.\"\n",
    "assert isinstance(count_two_word, (int, np.int32, np.int64)), \"Be sure count_two_word is an integer.\"\n",
    "assert len(ser_two_word) == 48, \"ser_two_word should have one value for every state in states_48.\"\n",
    "assert 5 < count_two_word < 15, \"You should find at least 5 two-word states but fewer than 15.\"\n",
    "assert ser_two_word.value_counts().index[0] == \"TWO WORDS\", \"You should replace each two-word state with the string 'TWO WORDS' in ser_two_word.\"\n",
    "assert (ser_two_word.iloc[0] == \"Alabama\") & (ser_two_word.iloc[-1] == 'Wyoming'), 'One-word states should retain their names in ser_two_word, and all states should remain in the same order.'"
   ]
  },
  {
   "cell_type": "code",
   "execution_count": null,
   "metadata": {
    "executionInfo": {
     "elapsed": 1398,
     "status": "ok",
     "timestamp": 1607807820011,
     "user": {
      "displayName": "Don Perkus",
      "photoUrl": "",
      "userId": "17299458734576349048"
     },
     "user_tz": 300
    },
    "id": "sdwNYzEDVWU6"
   },
   "outputs": [],
   "source": []
  },
  {
   "cell_type": "markdown",
   "metadata": {
    "id": "D60h8T_RWdJh"
   },
   "source": [
    "## Exercise 3 - Messy Dates\n",
    "\n",
    "Create a new column `states_48` called \"date_time_admitted\" to hold datetime values for each state's admission date.  \n",
    "\n",
    "You will encounter a data error if you try to directly convert the \"date_admitted\" column.  Diagnose this error and use a strategy to correctly convert all admission dates."
   ]
  },
  {
   "cell_type": "code",
   "execution_count": null,
   "metadata": {
    "colab": {
     "base_uri": "https://localhost:8080/",
     "height": 195
    },
    "executionInfo": {
     "elapsed": 1390,
     "status": "ok",
     "timestamp": 1607807820012,
     "user": {
      "displayName": "Don Perkus",
      "photoUrl": "",
      "userId": "17299458734576349048"
     },
     "user_tz": 300
    },
    "id": "1J9CfktkV7i4",
    "outputId": "f7fee66e-af9e-45e1-9275-96c6db8e6faa"
   },
   "outputs": [],
   "source": [
    "# YOUR CODE HERE\n",
    "raise NotImplementedError()\n",
    "\n",
    "states_48.head()"
   ]
  },
  {
   "cell_type": "code",
   "execution_count": null,
   "metadata": {
    "colab": {
     "base_uri": "https://localhost:8080/"
    },
    "executionInfo": {
     "elapsed": 1385,
     "status": "ok",
     "timestamp": 1607807820014,
     "user": {
      "displayName": "Don Perkus",
      "photoUrl": "",
      "userId": "17299458734576349048"
     },
     "user_tz": 300
    },
    "id": "OUJcZaeZZ48u",
    "outputId": "8d1eb30f-7675-4038-8e2f-42039d7c5c65"
   },
   "outputs": [],
   "source": [
    "states_48.dtypes"
   ]
  },
  {
   "cell_type": "code",
   "execution_count": null,
   "metadata": {
    "executionInfo": {
     "elapsed": 1385,
     "status": "ok",
     "timestamp": 1607807820016,
     "user": {
      "displayName": "Don Perkus",
      "photoUrl": "",
      "userId": "17299458734576349048"
     },
     "user_tz": 300
    },
    "id": "O9gpwzr5aHqJ"
   },
   "outputs": [],
   "source": [
    "assert 'date_time_admitted' in states_48.columns, \"Please add a column called 'date_time_admitted' to the states_48 dataframe.\"\n",
    "assert ptypes.is_datetime64_any_dtype(states_48.date_time_admitted), \"Be sure the date_time_admitted column contains the datetime data type.\"\n",
    "assert states_48.date_time_admitted.isna().sum() == 0, \"Please convert ALL admission dates -- even those with inconsistencies!\""
   ]
  },
  {
   "cell_type": "code",
   "execution_count": null,
   "metadata": {
    "executionInfo": {
     "elapsed": 1528,
     "status": "ok",
     "timestamp": 1607807820161,
     "user": {
      "displayName": "Don Perkus",
      "photoUrl": "",
      "userId": "17299458734576349048"
     },
     "user_tz": 300
    },
    "id": "SRMC1L_Garcc"
   },
   "outputs": [],
   "source": []
  },
  {
   "cell_type": "code",
   "execution_count": null,
   "metadata": {
    "executionInfo": {
     "elapsed": 1526,
     "status": "ok",
     "timestamp": 1607807820161,
     "user": {
      "displayName": "Don Perkus",
      "photoUrl": "",
      "userId": "17299458734576349048"
     },
     "user_tz": 300
    },
    "id": "GuW9cWKSbraE"
   },
   "outputs": [],
   "source": []
  }
 ],
 "metadata": {
  "colab": {
   "name": "datacleaning-chapter6-exercises.ipynb",
   "provenance": []
  },
  "kernelspec": {
   "display_name": "Python 3 (ipykernel)",
   "language": "python",
   "name": "python3"
  },
  "language_info": {
   "codemirror_mode": {
    "name": "ipython",
    "version": 3
   },
   "file_extension": ".py",
   "mimetype": "text/x-python",
   "name": "python",
   "nbconvert_exporter": "python",
   "pygments_lexer": "ipython3",
   "version": "3.9.7"
  }
 },
 "nbformat": 4,
 "nbformat_minor": 4
}
